{
  "nbformat": 4,
  "nbformat_minor": 0,
  "metadata": {
    "colab": {
      "name": "8.2_Pandas-Advanced_map, zip and apply.ipynb",
      "provenance": [],
      "collapsed_sections": []
    },
    "kernelspec": {
      "name": "python3",
      "display_name": "Python 3"
    }
  },
  "cells": [
    {
      "cell_type": "markdown",
      "source": [
        "# map()"
      ],
      "metadata": {
        "id": "Fb-7_Enke5bW"
      }
    },
    {
      "cell_type": "markdown",
      "metadata": {
        "id": "rh5F6I69latY"
      },
      "source": [
        "map() is a Python funtion that can be used to apply another function to a list or dictiony. "
      ]
    },
    {
      "cell_type": "code",
      "metadata": {
        "id": "JsFHlzsaFwmS"
      },
      "source": [
        "numbers = [5, 2, 7, 3, 4, 6, 8, 1]\n",
        "\n",
        "# Let's make a function that caculates squares\n",
        "def square_number(x): \n",
        "    return x**2"
      ],
      "execution_count": 1,
      "outputs": []
    },
    {
      "cell_type": "code",
      "metadata": {
        "id": "so2y5MXUmg5w",
        "outputId": "f58c651c-94df-4b3a-a822-31e87ac606f7",
        "colab": {
          "base_uri": "https://localhost:8080/"
        }
      },
      "source": [
        "# A non-pythonic approach is using a for loop to iterate over each element in our list and append the result to our squares list\n",
        "squares = []\n",
        "for num in numbers:\n",
        "    squares.append(square_number(num))\n",
        "print('Non-Pythonic Approach: ', squares)"
      ],
      "execution_count": 2,
      "outputs": [
        {
          "output_type": "stream",
          "name": "stdout",
          "text": [
            "Non-Pythonic Approach:  [25, 4, 49, 9, 16, 36, 64, 1]\n"
          ]
        }
      ]
    },
    {
      "cell_type": "code",
      "metadata": {
        "id": "DV31kAqbmhBk",
        "colab": {
          "base_uri": "https://localhost:8080/"
        },
        "outputId": "0a975264-ac3d-432d-f944-f3ebe552464c"
      },
      "source": [
        "# A pythonic approach would be to use Map. It takes the function and the list as its input arguments.\n",
        "x = map(square_number, numbers)\n",
        "print('Pythonic Approach: ', list(x))"
      ],
      "execution_count": 5,
      "outputs": [
        {
          "output_type": "stream",
          "name": "stdout",
          "text": [
            "Pythonic Approach:  [25, 4, 49, 9, 16, 36, 64, 1]\n"
          ]
        }
      ]
    },
    {
      "cell_type": "markdown",
      "metadata": {
        "id": "etzvSgmcmuxr"
      },
      "source": [
        "# zip()"
      ]
    },
    {
      "cell_type": "code",
      "metadata": {
        "id": "QyFBD3okFiq2",
        "outputId": "2c2f196d-10ea-471e-d8ef-b12742fcc811",
        "colab": {
          "base_uri": "https://localhost:8080/"
        }
      },
      "source": [
        "a = [5, 2, 7, 3, 4]\n",
        "b = [3, 8, 6, 8, 1]\n",
        "\n",
        "# Iterate over two or more lists simultaneously\n",
        "for x, y in zip(a, b):\n",
        "    print(x,y)"
      ],
      "execution_count": 6,
      "outputs": [
        {
          "output_type": "stream",
          "name": "stdout",
          "text": [
            "5 3\n",
            "2 8\n",
            "7 6\n",
            "3 8\n",
            "4 1\n"
          ]
        }
      ]
    },
    {
      "cell_type": "markdown",
      "metadata": {
        "id": "7bkQ_jgymzKf"
      },
      "source": [
        "# filter().\n",
        "Filter takes a function and a sequence (list or dictionarty) as its input and works similarly to **map** however, filter only stores the elements that were evaluated to be **True**"
      ]
    },
    {
      "cell_type": "code",
      "metadata": {
        "id": "47jOWtUrFj-O"
      },
      "source": [
        "numbers = [5, 2, 7, 3, 4, 6, 8, 1, 9, 0, 10]\n",
        "\n",
        "# Will return true if input number is even\n",
        "def isEven(x):\n",
        "    return x % 2 == 0"
      ],
      "execution_count": 7,
      "outputs": []
    },
    {
      "cell_type": "code",
      "metadata": {
        "id": "1br8gVgGnDMV",
        "outputId": "2bdd9fd6-8396-458f-8e42-a427fb02ee77",
        "colab": {
          "base_uri": "https://localhost:8080/"
        }
      },
      "source": [
        "# A non-pythonic approach would be to use a for loop with an if statement inside\n",
        "even_numbers = []\n",
        "for num in numbers:\n",
        "    if isEven(num):\n",
        "        even_numbers.append(num)\n",
        "print('Non-Pythonic Approach: ', even_numbers)"
      ],
      "execution_count": 8,
      "outputs": [
        {
          "output_type": "stream",
          "name": "stdout",
          "text": [
            "Non-Pythonic Approach:  [2, 4, 6, 8, 0, 10]\n"
          ]
        }
      ]
    },
    {
      "cell_type": "code",
      "metadata": {
        "id": "6aAjiIybnFbh",
        "outputId": "2322e7f7-b235-4e04-c82f-ea156ff32f35",
        "colab": {
          "base_uri": "https://localhost:8080/"
        }
      },
      "source": [
        "# A pythonic approach would be to use filter()\n",
        "even_numbers = filter(isEven, numbers)\n",
        "print('Pythonic Approach: ', list(even_numbers))"
      ],
      "execution_count": 9,
      "outputs": [
        {
          "output_type": "stream",
          "name": "stdout",
          "text": [
            "Pythonic Approach:  [2, 4, 6, 8, 0, 10]\n"
          ]
        }
      ]
    }
  ]
}