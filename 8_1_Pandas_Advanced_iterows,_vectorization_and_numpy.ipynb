{
  "nbformat": 4,
  "nbformat_minor": 0,
  "metadata": {
    "colab": {
      "name": "8.1_Pandas-Advanced - iterows, vectorization and numpy.ipynb",
      "provenance": [],
      "collapsed_sections": []
    },
    "kernelspec": {
      "name": "python3",
      "display_name": "Python 3"
    }
  },
  "cells": [
    {
      "cell_type": "markdown",
      "metadata": {
        "id": "ut18MGvfuRcw"
      },
      "source": [
        "# Advanced Pandas techniques to boost performance!\n",
        "\n",
        "https://engineering.upside.com/a-beginners-guide-to-optimizing-pandas-code-for-speed-c09ef2c6a4d6\n",
        "\n",
        "Pycon Presentation - https://www.youtube.com/watch?v=HN5d490_KKk"
      ]
    },
    {
      "cell_type": "markdown",
      "metadata": {
        "id": "ckbiz1XM1L6S"
      },
      "source": [
        "We'll test and compare different methods of applying functions to pandas dataframes.\n",
        "The function we'll be testing is the Haversine Distance formular which takes the cordinates of two points (lattitude and longitude) and calculates the straight line distance"
      ]
    },
    {
      "cell_type": "code",
      "metadata": {
        "id": "PSpZRzPnuS3i"
      },
      "source": [
        "import numpy as np\n",
        "\n",
        "# Define a basic Haversine distance formula\n",
        "def haversine(lat1, lon1, lat2, lon2):\n",
        "    MILES = 3959\n",
        "    lat1, lon1, lat2, lon2 = map(np.deg2rad, [lat1, lon1, lat2, lon2])\n",
        "    dlat = lat2 - lat1 \n",
        "    dlon = lon2 - lon1 \n",
        "    a = np.sin(dlat/2)**2 + np.cos(lat1) * np.cos(lat2) * np.sin(dlon/2)**2\n",
        "    c = 2 * np.arcsin(np.sqrt(a)) \n",
        "    total_miles = MILES * c\n",
        "    return total_miles"
      ],
      "execution_count": 1,
      "outputs": []
    },
    {
      "cell_type": "markdown",
      "metadata": {
        "id": "BouuHDvr1wgK"
      },
      "source": [
        "# Let's loop though a dataframe of cordinates and return a series with these distences"
      ]
    },
    {
      "cell_type": "code",
      "metadata": {
        "id": "S7I66yCk12iJ"
      },
      "source": [
        "# Define a function to manually loop over all rows and return a series of distances\n",
        "def haversine_looping(df):\n",
        "    distance_list = []\n",
        "    for i in range(0, len(df)):\n",
        "        d = haversine(40.671, -73.985, df.iloc[i]['latitude'], df.iloc[i]['longitude'])\n",
        "        distance_list.append(d)\n",
        "    return distance_list"
      ],
      "execution_count": 2,
      "outputs": []
    },
    {
      "cell_type": "code",
      "metadata": {
        "id": "Ur121tY_uY3I",
        "outputId": "94c60af2-a677-40ae-82c5-6f25171c0cc3",
        "colab": {
          "base_uri": "https://localhost:8080/",
          "height": 302
        }
      },
      "source": [
        "import pandas as pd\n",
        "\n",
        "file_name = \"https://raw.githubusercontent.com/rajeevratan84/datascienceforbusiness/master/new_york_hotels.csv\"\n",
        "df = pd.read_csv(file_name, encoding = \"ISO-8859-1\")\n",
        "df.head()"
      ],
      "execution_count": 3,
      "outputs": [
        {
          "output_type": "execute_result",
          "data": {
            "text/html": [
              "\n",
              "  <div id=\"df-125d6ac4-bd02-4961-a4c3-68197e21e3b9\">\n",
              "    <div class=\"colab-df-container\">\n",
              "      <div>\n",
              "<style scoped>\n",
              "    .dataframe tbody tr th:only-of-type {\n",
              "        vertical-align: middle;\n",
              "    }\n",
              "\n",
              "    .dataframe tbody tr th {\n",
              "        vertical-align: top;\n",
              "    }\n",
              "\n",
              "    .dataframe thead th {\n",
              "        text-align: right;\n",
              "    }\n",
              "</style>\n",
              "<table border=\"1\" class=\"dataframe\">\n",
              "  <thead>\n",
              "    <tr style=\"text-align: right;\">\n",
              "      <th></th>\n",
              "      <th>ean_hotel_id</th>\n",
              "      <th>name</th>\n",
              "      <th>address1</th>\n",
              "      <th>city</th>\n",
              "      <th>state_province</th>\n",
              "      <th>postal_code</th>\n",
              "      <th>latitude</th>\n",
              "      <th>longitude</th>\n",
              "      <th>star_rating</th>\n",
              "      <th>high_rate</th>\n",
              "      <th>low_rate</th>\n",
              "    </tr>\n",
              "  </thead>\n",
              "  <tbody>\n",
              "    <tr>\n",
              "      <th>0</th>\n",
              "      <td>269955</td>\n",
              "      <td>Hilton Garden Inn Albany/SUNY Area</td>\n",
              "      <td>1389 Washington Ave</td>\n",
              "      <td>Albany</td>\n",
              "      <td>NY</td>\n",
              "      <td>12206</td>\n",
              "      <td>42.68751</td>\n",
              "      <td>-73.81643</td>\n",
              "      <td>3.0</td>\n",
              "      <td>154.0272</td>\n",
              "      <td>124.0216</td>\n",
              "    </tr>\n",
              "    <tr>\n",
              "      <th>1</th>\n",
              "      <td>113431</td>\n",
              "      <td>Courtyard by Marriott Albany Thruway</td>\n",
              "      <td>1455 Washington Avenue</td>\n",
              "      <td>Albany</td>\n",
              "      <td>NY</td>\n",
              "      <td>12206</td>\n",
              "      <td>42.68971</td>\n",
              "      <td>-73.82021</td>\n",
              "      <td>3.0</td>\n",
              "      <td>179.0100</td>\n",
              "      <td>134.0000</td>\n",
              "    </tr>\n",
              "    <tr>\n",
              "      <th>2</th>\n",
              "      <td>108151</td>\n",
              "      <td>Radisson Hotel Albany</td>\n",
              "      <td>205 Wolf Rd</td>\n",
              "      <td>Albany</td>\n",
              "      <td>NY</td>\n",
              "      <td>12205</td>\n",
              "      <td>42.72410</td>\n",
              "      <td>-73.79822</td>\n",
              "      <td>3.0</td>\n",
              "      <td>134.1700</td>\n",
              "      <td>84.1600</td>\n",
              "    </tr>\n",
              "    <tr>\n",
              "      <th>3</th>\n",
              "      <td>254756</td>\n",
              "      <td>Hilton Garden Inn Albany Medical Center</td>\n",
              "      <td>62 New Scotland Ave</td>\n",
              "      <td>Albany</td>\n",
              "      <td>NY</td>\n",
              "      <td>12208</td>\n",
              "      <td>42.65157</td>\n",
              "      <td>-73.77638</td>\n",
              "      <td>3.0</td>\n",
              "      <td>308.2807</td>\n",
              "      <td>228.4597</td>\n",
              "    </tr>\n",
              "    <tr>\n",
              "      <th>4</th>\n",
              "      <td>198232</td>\n",
              "      <td>CrestHill Suites SUNY University Albany</td>\n",
              "      <td>1415 Washington Avenue</td>\n",
              "      <td>Albany</td>\n",
              "      <td>NY</td>\n",
              "      <td>12206</td>\n",
              "      <td>42.68873</td>\n",
              "      <td>-73.81854</td>\n",
              "      <td>3.0</td>\n",
              "      <td>169.3900</td>\n",
              "      <td>89.3900</td>\n",
              "    </tr>\n",
              "  </tbody>\n",
              "</table>\n",
              "</div>\n",
              "      <button class=\"colab-df-convert\" onclick=\"convertToInteractive('df-125d6ac4-bd02-4961-a4c3-68197e21e3b9')\"\n",
              "              title=\"Convert this dataframe to an interactive table.\"\n",
              "              style=\"display:none;\">\n",
              "        \n",
              "  <svg xmlns=\"http://www.w3.org/2000/svg\" height=\"24px\"viewBox=\"0 0 24 24\"\n",
              "       width=\"24px\">\n",
              "    <path d=\"M0 0h24v24H0V0z\" fill=\"none\"/>\n",
              "    <path d=\"M18.56 5.44l.94 2.06.94-2.06 2.06-.94-2.06-.94-.94-2.06-.94 2.06-2.06.94zm-11 1L8.5 8.5l.94-2.06 2.06-.94-2.06-.94L8.5 2.5l-.94 2.06-2.06.94zm10 10l.94 2.06.94-2.06 2.06-.94-2.06-.94-.94-2.06-.94 2.06-2.06.94z\"/><path d=\"M17.41 7.96l-1.37-1.37c-.4-.4-.92-.59-1.43-.59-.52 0-1.04.2-1.43.59L10.3 9.45l-7.72 7.72c-.78.78-.78 2.05 0 2.83L4 21.41c.39.39.9.59 1.41.59.51 0 1.02-.2 1.41-.59l7.78-7.78 2.81-2.81c.8-.78.8-2.07 0-2.86zM5.41 20L4 18.59l7.72-7.72 1.47 1.35L5.41 20z\"/>\n",
              "  </svg>\n",
              "      </button>\n",
              "      \n",
              "  <style>\n",
              "    .colab-df-container {\n",
              "      display:flex;\n",
              "      flex-wrap:wrap;\n",
              "      gap: 12px;\n",
              "    }\n",
              "\n",
              "    .colab-df-convert {\n",
              "      background-color: #E8F0FE;\n",
              "      border: none;\n",
              "      border-radius: 50%;\n",
              "      cursor: pointer;\n",
              "      display: none;\n",
              "      fill: #1967D2;\n",
              "      height: 32px;\n",
              "      padding: 0 0 0 0;\n",
              "      width: 32px;\n",
              "    }\n",
              "\n",
              "    .colab-df-convert:hover {\n",
              "      background-color: #E2EBFA;\n",
              "      box-shadow: 0px 1px 2px rgba(60, 64, 67, 0.3), 0px 1px 3px 1px rgba(60, 64, 67, 0.15);\n",
              "      fill: #174EA6;\n",
              "    }\n",
              "\n",
              "    [theme=dark] .colab-df-convert {\n",
              "      background-color: #3B4455;\n",
              "      fill: #D2E3FC;\n",
              "    }\n",
              "\n",
              "    [theme=dark] .colab-df-convert:hover {\n",
              "      background-color: #434B5C;\n",
              "      box-shadow: 0px 1px 3px 1px rgba(0, 0, 0, 0.15);\n",
              "      filter: drop-shadow(0px 1px 2px rgba(0, 0, 0, 0.3));\n",
              "      fill: #FFFFFF;\n",
              "    }\n",
              "  </style>\n",
              "\n",
              "      <script>\n",
              "        const buttonEl =\n",
              "          document.querySelector('#df-125d6ac4-bd02-4961-a4c3-68197e21e3b9 button.colab-df-convert');\n",
              "        buttonEl.style.display =\n",
              "          google.colab.kernel.accessAllowed ? 'block' : 'none';\n",
              "\n",
              "        async function convertToInteractive(key) {\n",
              "          const element = document.querySelector('#df-125d6ac4-bd02-4961-a4c3-68197e21e3b9');\n",
              "          const dataTable =\n",
              "            await google.colab.kernel.invokeFunction('convertToInteractive',\n",
              "                                                     [key], {});\n",
              "          if (!dataTable) return;\n",
              "\n",
              "          const docLinkHtml = 'Like what you see? Visit the ' +\n",
              "            '<a target=\"_blank\" href=https://colab.research.google.com/notebooks/data_table.ipynb>data table notebook</a>'\n",
              "            + ' to learn more about interactive tables.';\n",
              "          element.innerHTML = '';\n",
              "          dataTable['output_type'] = 'display_data';\n",
              "          await google.colab.output.renderOutput(dataTable, element);\n",
              "          const docLink = document.createElement('div');\n",
              "          docLink.innerHTML = docLinkHtml;\n",
              "          element.appendChild(docLink);\n",
              "        }\n",
              "      </script>\n",
              "    </div>\n",
              "  </div>\n",
              "  "
            ],
            "text/plain": [
              "   ean_hotel_id                                     name  ... high_rate  low_rate\n",
              "0        269955       Hilton Garden Inn Albany/SUNY Area  ...  154.0272  124.0216\n",
              "1        113431     Courtyard by Marriott Albany Thruway  ...  179.0100  134.0000\n",
              "2        108151                    Radisson Hotel Albany  ...  134.1700   84.1600\n",
              "3        254756  Hilton Garden Inn Albany Medical Center  ...  308.2807  228.4597\n",
              "4        198232  CrestHill Suites SUNY University Albany  ...  169.3900   89.3900\n",
              "\n",
              "[5 rows x 11 columns]"
            ]
          },
          "metadata": {},
          "execution_count": 3
        }
      ]
    },
    {
      "cell_type": "code",
      "metadata": {
        "id": "nglnU2xn4ZKO",
        "outputId": "1ad8e2c5-d7fc-4fe1-d3ba-aae87e06b9dd",
        "colab": {
          "base_uri": "https://localhost:8080/"
        }
      },
      "source": [
        "df.shape"
      ],
      "execution_count": 4,
      "outputs": [
        {
          "output_type": "execute_result",
          "data": {
            "text/plain": [
              "(1631, 11)"
            ]
          },
          "metadata": {},
          "execution_count": 4
        }
      ]
    },
    {
      "cell_type": "code",
      "metadata": {
        "id": "krSHhhDpvOf9",
        "outputId": "36ef99fa-0d7e-46b2-e0b6-c4f2b83334b6",
        "colab": {
          "base_uri": "https://localhost:8080/"
        }
      },
      "source": [
        "# This is a built in magic ipython command that provides timing for code executed in the cell\n",
        "%%timeit\n",
        "\n",
        "# Run the haversine looping function\n",
        "df['distance'] = haversine_looping(df)"
      ],
      "execution_count": 5,
      "outputs": [
        {
          "output_type": "stream",
          "name": "stdout",
          "text": [
            "1 loop, best of 5: 446 ms per loop\n"
          ]
        }
      ]
    },
    {
      "cell_type": "markdown",
      "metadata": {
        "id": "sOgTNwsq4gBx"
      },
      "source": [
        "## Looping with iterrows()"
      ]
    },
    {
      "cell_type": "code",
      "metadata": {
        "id": "tC1o2VAtvUiZ",
        "outputId": "c9ad1194-c549-451f-9812-551455a1de39",
        "colab": {
          "base_uri": "https://localhost:8080/"
        }
      },
      "source": [
        "%%timeit\n",
        "\n",
        "# Haversine applied on rows via iteration\n",
        "haversine_series = []\n",
        "for index, row in df.iterrows():\n",
        "    haversine_series.append(haversine(40.671, -73.985, row['latitude'], row['longitude']))\n",
        "df['distance'] = haversine_series"
      ],
      "execution_count": 6,
      "outputs": [
        {
          "output_type": "stream",
          "name": "stdout",
          "text": [
            "10 loops, best of 5: 122 ms per loop\n"
          ]
        }
      ]
    },
    {
      "cell_type": "code",
      "metadata": {
        "id": "x8POwAyM4jpo",
        "outputId": "c93b32a9-036b-4a0a-d041-6c893cf0242b",
        "colab": {
          "base_uri": "https://localhost:8080/"
        }
      },
      "source": [
        "%%timeit\n",
        "\n",
        "# Timing apply on the Haversine function\n",
        "df['distance'] = df.apply(lambda row: haversine(40.671, -73.985, row['latitude'], row['longitude']), axis=1)"
      ],
      "execution_count": 7,
      "outputs": [
        {
          "output_type": "stream",
          "name": "stdout",
          "text": [
            "10 loops, best of 5: 49.8 ms per loop\n"
          ]
        }
      ]
    },
    {
      "cell_type": "code",
      "metadata": {
        "id": "zdwZhFR14y5r"
      },
      "source": [
        " #!pip install line_profiler\n",
        " #%load_ext line_profiler\n",
        "\n",
        "# Haversine applied on rows with line profiler\n",
        "%lprun -f haversine df.apply(lambda row: haversine(40.671, -73.985, row['latitude'], row['longitude']), axis=1)\n"
      ],
      "execution_count": 9,
      "outputs": []
    },
    {
      "cell_type": "markdown",
      "metadata": {
        "id": "Elv5hfRK6WRx"
      },
      "source": [
        "### We can note two things from the output.\n",
        "1. Line 9 our trigonometric calcuation accounts for the bulk of our processing time, understandably so.\n",
        "2. Each line is being hit 1631 times, that is because we're still **looping** so we iterate through every row in our dataframe"
      ]
    },
    {
      "cell_type": "markdown",
      "metadata": {
        "id": "Q2yD4mfY6wt_"
      },
      "source": [
        "# Now for Vectorization!\n",
        "\n",
        "- We've only been passing scalars to our Haversine function. Fortunately, all of the functions being used within the Haversine function, are also able to operate on arrays. \n",
        "- This makes the process of vectorizing our distance function quite simple as we can pass the entire series (columns) to it, performing all the calculations on the entire array simultaneously.\n",
        "\n",
        "![alt text](https://github.com/rajeevratan84/datascienceforbusiness/blob/master/vectorization.png?raw=true)"
      ]
    },
    {
      "cell_type": "code",
      "metadata": {
        "id": "y5u3sY3mvjUI",
        "outputId": "309980a8-b155-4d90-9af9-c1e224c516cc",
        "colab": {
          "base_uri": "https://localhost:8080/"
        }
      },
      "source": [
        "%%timeit \n",
        "\n",
        "# Vectorized implementation of Haversine applied on Pandas series\n",
        "df['distance'] = haversine(40.671, -73.985, df['latitude'], df['longitude'])"
      ],
      "execution_count": 10,
      "outputs": [
        {
          "output_type": "stream",
          "name": "stdout",
          "text": [
            "100 loops, best of 5: 1.99 ms per loop\n"
          ]
        }
      ]
    },
    {
      "cell_type": "code",
      "metadata": {
        "id": "Fsrxrx087KDf"
      },
      "source": [
        "# Run our line profiler to inspect further\n",
        "%lprun -f haversine df['distance'] = haversine(40.671, -73.985, df['latitude'], df['longitude'])"
      ],
      "execution_count": 11,
      "outputs": []
    },
    {
      "cell_type": "markdown",
      "metadata": {
        "id": "JGkuYa6j7Zu5"
      },
      "source": [
        "## Let's use numpy vetorization instead of pandas"
      ]
    },
    {
      "cell_type": "code",
      "metadata": {
        "id": "QYQUqnp_7VFo",
        "outputId": "9e2598aa-bc0b-4737-e1ee-28dd57319be6",
        "colab": {
          "base_uri": "https://localhost:8080/"
        }
      },
      "source": [
        "%%timeit\n",
        "\n",
        "# Vectorized implementation of Haversine applied on NumPy arrays (note we use .values to access the numpy series)\n",
        "df['distance'] = haversine(40.671, -73.985, df['latitude'].values, df['longitude'].values)"
      ],
      "execution_count": 12,
      "outputs": [
        {
          "output_type": "stream",
          "name": "stdout",
          "text": [
            "The slowest run took 6.44 times longer than the fastest. This could mean that an intermediate result is being cached.\n",
            "1000 loops, best of 5: 263 µs per loop\n"
          ]
        }
      ]
    },
    {
      "cell_type": "markdown",
      "metadata": {
        "id": "EmFiXcCP759g"
      },
      "source": [
        "# So we went from 609 ms using regular for loops, to 275 µs (or 0.275ms)!!! A 2000 fold increase in performance!"
      ]
    }
  ]
}