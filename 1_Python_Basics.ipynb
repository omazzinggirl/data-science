{
  "nbformat": 4,
  "nbformat_minor": 0,
  "metadata": {
    "colab": {
      "name": "1_Python_Basics.ipynb",
      "provenance": [],
      "authorship_tag": "ABX9TyNaXY5dOLQivU3xMR5H3k+0"
    },
    "kernelspec": {
      "name": "python3",
      "display_name": "Python 3"
    },
    "language_info": {
      "name": "python"
    }
  },
  "cells": [
    {
      "cell_type": "markdown",
      "source": [
        "# Variables"
      ],
      "metadata": {
        "id": "si2OEipoScu5"
      }
    },
    {
      "cell_type": "code",
      "execution_count": 75,
      "metadata": {
        "colab": {
          "base_uri": "https://localhost:8080/"
        },
        "id": "UwJi-_a7RUux",
        "outputId": "dab4d879-83a7-45c4-c5f4-7aa1dc1f9ea0"
      },
      "outputs": [
        {
          "output_type": "stream",
          "name": "stdout",
          "text": [
            "14\n"
          ]
        }
      ],
      "source": [
        "a = 14\n",
        "print(a)"
      ]
    },
    {
      "cell_type": "code",
      "source": [
        "b = \"Hello World\"\n",
        "print(b)"
      ],
      "metadata": {
        "colab": {
          "base_uri": "https://localhost:8080/"
        },
        "id": "-7vWnfwXS2-t",
        "outputId": "74a71b63-4c75-4d66-b601-864df2f40208"
      },
      "execution_count": 76,
      "outputs": [
        {
          "output_type": "stream",
          "name": "stdout",
          "text": [
            "Hello World\n"
          ]
        }
      ]
    },
    {
      "cell_type": "code",
      "source": [
        "c = 10\n",
        "print(a+c)"
      ],
      "metadata": {
        "colab": {
          "base_uri": "https://localhost:8080/"
        },
        "id": "mcUYA5yOTEKI",
        "outputId": "261d76b3-5037-4e1a-dca0-a628a8986c6b"
      },
      "execution_count": 77,
      "outputs": [
        {
          "output_type": "stream",
          "name": "stdout",
          "text": [
            "24\n"
          ]
        }
      ]
    },
    {
      "cell_type": "code",
      "source": [
        "# type of  variable\n",
        "type(a)"
      ],
      "metadata": {
        "colab": {
          "base_uri": "https://localhost:8080/"
        },
        "id": "mEoqsovVTM3W",
        "outputId": "b4145282-82c5-4e2d-b26a-2bceb8c5c140"
      },
      "execution_count": 78,
      "outputs": [
        {
          "output_type": "execute_result",
          "data": {
            "text/plain": [
              "int"
            ]
          },
          "metadata": {},
          "execution_count": 78
        }
      ]
    },
    {
      "cell_type": "code",
      "source": [
        "print(type(b))"
      ],
      "metadata": {
        "colab": {
          "base_uri": "https://localhost:8080/"
        },
        "id": "e0UNhvrxTXQL",
        "outputId": "6ad446a7-4ef6-4164-aef7-66a390a3c786"
      },
      "execution_count": 79,
      "outputs": [
        {
          "output_type": "stream",
          "name": "stdout",
          "text": [
            "<class 'str'>\n"
          ]
        }
      ]
    },
    {
      "cell_type": "markdown",
      "source": [
        "#List/Arrays"
      ],
      "metadata": {
        "id": "yPzEToJrTtsQ"
      }
    },
    {
      "cell_type": "code",
      "source": [
        "# Homogeneous\n",
        "a = [1,2,3]\n",
        "print(a)"
      ],
      "metadata": {
        "colab": {
          "base_uri": "https://localhost:8080/"
        },
        "id": "Y2dKrbVIT0Eh",
        "outputId": "09b2b32a-0dd1-4bf2-f4dd-ddb074c0f6c6"
      },
      "execution_count": 80,
      "outputs": [
        {
          "output_type": "stream",
          "name": "stdout",
          "text": [
            "[1, 2, 3]\n"
          ]
        }
      ]
    },
    {
      "cell_type": "code",
      "source": [
        "# Non-Homogeneoous\n",
        "b = [\"Text\", 4, 2.5]\n",
        "print(b)"
      ],
      "metadata": {
        "colab": {
          "base_uri": "https://localhost:8080/"
        },
        "id": "RHUHcyc3T-4f",
        "outputId": "09e8a65d-8e31-40a8-edcc-77c805e87ee4"
      },
      "execution_count": 81,
      "outputs": [
        {
          "output_type": "stream",
          "name": "stdout",
          "text": [
            "['Text', 4, 2.5]\n"
          ]
        }
      ]
    },
    {
      "cell_type": "code",
      "source": [
        "print(a[2])"
      ],
      "metadata": {
        "colab": {
          "base_uri": "https://localhost:8080/"
        },
        "id": "YcTY1bwbUL-P",
        "outputId": "4c3c1107-fef2-47cb-f7a0-a41a23951a08"
      },
      "execution_count": 82,
      "outputs": [
        {
          "output_type": "stream",
          "name": "stdout",
          "text": [
            "3\n"
          ]
        }
      ]
    },
    {
      "cell_type": "code",
      "source": [
        "a.append(4)\n",
        "a"
      ],
      "metadata": {
        "colab": {
          "base_uri": "https://localhost:8080/"
        },
        "id": "wywV2_j-UR_N",
        "outputId": "7b2df290-2cd4-44b9-a8b6-9a0fa3749753"
      },
      "execution_count": 83,
      "outputs": [
        {
          "output_type": "execute_result",
          "data": {
            "text/plain": [
              "[1, 2, 3, 4]"
            ]
          },
          "metadata": {},
          "execution_count": 83
        }
      ]
    },
    {
      "cell_type": "code",
      "source": [
        "a[1] = 5\n",
        "a"
      ],
      "metadata": {
        "colab": {
          "base_uri": "https://localhost:8080/"
        },
        "id": "e6IAQSbcUnNZ",
        "outputId": "6f726ad9-4501-45a7-99dc-19b4b8b1b40e"
      },
      "execution_count": 84,
      "outputs": [
        {
          "output_type": "execute_result",
          "data": {
            "text/plain": [
              "[1, 5, 3, 4]"
            ]
          },
          "metadata": {},
          "execution_count": 84
        }
      ]
    },
    {
      "cell_type": "code",
      "source": [
        "len(b)"
      ],
      "metadata": {
        "colab": {
          "base_uri": "https://localhost:8080/"
        },
        "id": "H-vDDKIFUb3r",
        "outputId": "89c4ccb6-92fb-4d2e-a50d-1553d71d74dc"
      },
      "execution_count": 85,
      "outputs": [
        {
          "output_type": "execute_result",
          "data": {
            "text/plain": [
              "3"
            ]
          },
          "metadata": {},
          "execution_count": 85
        }
      ]
    },
    {
      "cell_type": "code",
      "source": [
        "# Slicing\n",
        "print('All elements: ', a[:])"
      ],
      "metadata": {
        "colab": {
          "base_uri": "https://localhost:8080/"
        },
        "id": "sl_jL6RoUgj0",
        "outputId": "30c7602c-d791-4f5c-98b5-25cb297d2a2f"
      },
      "execution_count": 86,
      "outputs": [
        {
          "output_type": "stream",
          "name": "stdout",
          "text": [
            "All elements:  [1, 5, 3, 4]\n"
          ]
        }
      ]
    },
    {
      "cell_type": "code",
      "source": [
        "print('All elements from 3rd position onwards: ', a[2:])"
      ],
      "metadata": {
        "colab": {
          "base_uri": "https://localhost:8080/"
        },
        "id": "Njh63plKU31j",
        "outputId": "03647db4-5e5d-43f6-bd0c-f6a8699987b3"
      },
      "execution_count": 87,
      "outputs": [
        {
          "output_type": "stream",
          "name": "stdout",
          "text": [
            "All elements from 3rd position onwards:  [3, 4]\n"
          ]
        }
      ]
    },
    {
      "cell_type": "code",
      "source": [
        "print('All elements between 2nd and 4th position: ', a[1:4])"
      ],
      "metadata": {
        "colab": {
          "base_uri": "https://localhost:8080/"
        },
        "id": "-lm5j1PkVAQd",
        "outputId": "aee8d69f-200b-4be6-f3d7-6674c679d949"
      },
      "execution_count": 88,
      "outputs": [
        {
          "output_type": "stream",
          "name": "stdout",
          "text": [
            "All elements between 2nd and 4th position:  [5, 3, 4]\n"
          ]
        }
      ]
    },
    {
      "cell_type": "code",
      "source": [
        "print('All elements before last position', a[:-1])"
      ],
      "metadata": {
        "colab": {
          "base_uri": "https://localhost:8080/"
        },
        "id": "AvofkwfqVRNm",
        "outputId": "2e7a943a-09ef-4610-d68c-c82902b7761c"
      },
      "execution_count": 89,
      "outputs": [
        {
          "output_type": "stream",
          "name": "stdout",
          "text": [
            "All elements before last position [1, 5, 3]\n"
          ]
        }
      ]
    },
    {
      "cell_type": "markdown",
      "source": [
        "#Dictionaries"
      ],
      "metadata": {
        "id": "ESxu13GsVaX8"
      }
    },
    {
      "cell_type": "code",
      "source": [
        "country_info = {'name':'Japan','capital':'Tokyo'}\n",
        "\n",
        "print(country_info)\n",
        "print(country_info['name'])\n",
        "print(country_info['capital'])"
      ],
      "metadata": {
        "colab": {
          "base_uri": "https://localhost:8080/"
        },
        "id": "16e_IfMbVdJ4",
        "outputId": "64dfd898-5fdd-4141-e77b-12a8870e2354"
      },
      "execution_count": 90,
      "outputs": [
        {
          "output_type": "stream",
          "name": "stdout",
          "text": [
            "{'name': 'Japan', 'capital': 'Tokyo'}\n",
            "Japan\n",
            "Tokyo\n"
          ]
        }
      ]
    },
    {
      "cell_type": "code",
      "source": [
        "country_info['population'] = '126.8M'\n",
        "print(country_info)"
      ],
      "metadata": {
        "colab": {
          "base_uri": "https://localhost:8080/"
        },
        "id": "Dm1wme_-V0dj",
        "outputId": "de464f8d-c047-486a-da8f-f6a5a80070db"
      },
      "execution_count": 91,
      "outputs": [
        {
          "output_type": "stream",
          "name": "stdout",
          "text": [
            "{'name': 'Japan', 'capital': 'Tokyo', 'population': '126.8M'}\n"
          ]
        }
      ]
    },
    {
      "cell_type": "code",
      "source": [
        "country_info['population'] = '100M'\n",
        "print(country_info)"
      ],
      "metadata": {
        "colab": {
          "base_uri": "https://localhost:8080/"
        },
        "id": "re8zU718WLFc",
        "outputId": "23b316c4-d588-4738-cac4-cfe77af69587"
      },
      "execution_count": 92,
      "outputs": [
        {
          "output_type": "stream",
          "name": "stdout",
          "text": [
            "{'name': 'Japan', 'capital': 'Tokyo', 'population': '100M'}\n"
          ]
        }
      ]
    },
    {
      "cell_type": "code",
      "source": [
        "from pprint import pprint\n",
        "country_info['regions'] = ['Hokkaido', 'Tohuku', 'Kanto', 'Chubu', 'Kinki']\n",
        "pprint(country_info)"
      ],
      "metadata": {
        "colab": {
          "base_uri": "https://localhost:8080/"
        },
        "id": "clVz_E70WVMe",
        "outputId": "cebabe42-0815-441f-9be1-aeaf78fb1b10"
      },
      "execution_count": 93,
      "outputs": [
        {
          "output_type": "stream",
          "name": "stdout",
          "text": [
            "{'capital': 'Tokyo',\n",
            " 'name': 'Japan',\n",
            " 'population': '100M',\n",
            " 'regions': ['Hokkaido', 'Tohuku', 'Kanto', 'Chubu', 'Kinki']}\n"
          ]
        }
      ]
    },
    {
      "cell_type": "code",
      "source": [
        "country_info['health'] = {'life_expectancy': 84.1, 'birth_rate': 1.44}\n",
        "pprint(country_info)"
      ],
      "metadata": {
        "colab": {
          "base_uri": "https://localhost:8080/"
        },
        "id": "HE392SAhwfLA",
        "outputId": "1f131e3f-5e3b-4c2b-ddbc-bd6e78341f15"
      },
      "execution_count": 94,
      "outputs": [
        {
          "output_type": "stream",
          "name": "stdout",
          "text": [
            "{'capital': 'Tokyo',\n",
            " 'health': {'birth_rate': 1.44, 'life_expectancy': 84.1},\n",
            " 'name': 'Japan',\n",
            " 'population': '100M',\n",
            " 'regions': ['Hokkaido', 'Tohuku', 'Kanto', 'Chubu', 'Kinki']}\n"
          ]
        }
      ]
    },
    {
      "cell_type": "code",
      "source": [
        "country_info['health']['birth_rate']"
      ],
      "metadata": {
        "id": "pyBA55sbXEFU",
        "colab": {
          "base_uri": "https://localhost:8080/"
        },
        "outputId": "c9afbb3b-42c4-4091-f4d9-92ad11d8d2e0"
      },
      "execution_count": 95,
      "outputs": [
        {
          "output_type": "execute_result",
          "data": {
            "text/plain": [
              "1.44"
            ]
          },
          "metadata": {},
          "execution_count": 95
        }
      ]
    },
    {
      "cell_type": "code",
      "source": [
        "country_info.keys()"
      ],
      "metadata": {
        "colab": {
          "base_uri": "https://localhost:8080/"
        },
        "id": "rVumzklP0dqo",
        "outputId": "3131c1ae-75d6-48a4-8d68-b3904702730f"
      },
      "execution_count": 96,
      "outputs": [
        {
          "output_type": "execute_result",
          "data": {
            "text/plain": [
              "dict_keys(['name', 'capital', 'population', 'regions', 'health'])"
            ]
          },
          "metadata": {},
          "execution_count": 96
        }
      ]
    },
    {
      "cell_type": "code",
      "source": [
        "country_info.values()"
      ],
      "metadata": {
        "colab": {
          "base_uri": "https://localhost:8080/"
        },
        "id": "mb4_ozsE0i9O",
        "outputId": "25140ea0-53e1-4a96-bc5a-38d46280ac5c"
      },
      "execution_count": 97,
      "outputs": [
        {
          "output_type": "execute_result",
          "data": {
            "text/plain": [
              "dict_values(['Japan', 'Tokyo', '100M', ['Hokkaido', 'Tohuku', 'Kanto', 'Chubu', 'Kinki'], {'life_expectancy': 84.1, 'birth_rate': 1.44}])"
            ]
          },
          "metadata": {},
          "execution_count": 97
        }
      ]
    },
    {
      "cell_type": "markdown",
      "source": [
        "#Conditional Statements"
      ],
      "metadata": {
        "id": "OurYwtTp0sFI"
      }
    },
    {
      "cell_type": "code",
      "source": [
        "x = 19\n",
        "\n",
        "if x < 10:\n",
        "  print('less than 10')\n",
        "elif x > 10 and x <= 19:\n",
        "  print('greater than 10 but less than 20')\n",
        "else:\n",
        "    print('greater than 19')"
      ],
      "metadata": {
        "colab": {
          "base_uri": "https://localhost:8080/"
        },
        "id": "tm_YSVC70v6Y",
        "outputId": "57bfad32-4b84-4f68-ef7f-b6c21622528c"
      },
      "execution_count": 98,
      "outputs": [
        {
          "output_type": "stream",
          "name": "stdout",
          "text": [
            "greater than 10 but less than 20\n"
          ]
        }
      ]
    },
    {
      "cell_type": "code",
      "source": [
        "a = True\n",
        "if a:\n",
        "  print('statement was True')"
      ],
      "metadata": {
        "colab": {
          "base_uri": "https://localhost:8080/"
        },
        "id": "Np7EYvk61Xl0",
        "outputId": "f19f2e43-8881-471f-8c1b-0ebfd4842467"
      },
      "execution_count": 99,
      "outputs": [
        {
          "output_type": "stream",
          "name": "stdout",
          "text": [
            "statement was True\n"
          ]
        }
      ]
    },
    {
      "cell_type": "markdown",
      "source": [
        "#Loops"
      ],
      "metadata": {
        "id": "QdDf7ugh1lFi"
      }
    },
    {
      "cell_type": "code",
      "source": [
        "list(range(4, 12))"
      ],
      "metadata": {
        "colab": {
          "base_uri": "https://localhost:8080/"
        },
        "id": "rq6amRHC1jgM",
        "outputId": "487803a9-a0ef-43c7-815b-62636cf2798e"
      },
      "execution_count": 100,
      "outputs": [
        {
          "output_type": "execute_result",
          "data": {
            "text/plain": [
              "[4, 5, 6, 7, 8, 9, 10, 11]"
            ]
          },
          "metadata": {},
          "execution_count": 100
        }
      ]
    },
    {
      "cell_type": "code",
      "source": [
        "list(range(4))"
      ],
      "metadata": {
        "colab": {
          "base_uri": "https://localhost:8080/"
        },
        "id": "vH0vGJlv1zqZ",
        "outputId": "3419a759-d58c-4a98-8280-499d44cc700e"
      },
      "execution_count": 101,
      "outputs": [
        {
          "output_type": "execute_result",
          "data": {
            "text/plain": [
              "[0, 1, 2, 3]"
            ]
          },
          "metadata": {},
          "execution_count": 101
        }
      ]
    },
    {
      "cell_type": "code",
      "source": [
        "for i in range(1, 11):\n",
        "  print(i*i)"
      ],
      "metadata": {
        "colab": {
          "base_uri": "https://localhost:8080/"
        },
        "id": "yHlpYP7Q15kD",
        "outputId": "04e68888-8041-418d-d930-db47f9050b66"
      },
      "execution_count": 102,
      "outputs": [
        {
          "output_type": "stream",
          "name": "stdout",
          "text": [
            "1\n",
            "4\n",
            "9\n",
            "16\n",
            "25\n",
            "36\n",
            "49\n",
            "64\n",
            "81\n",
            "100\n"
          ]
        }
      ]
    },
    {
      "cell_type": "code",
      "source": [
        "items = ['a','b','c','d']\n",
        "for item in items:\n",
        "  print(item)"
      ],
      "metadata": {
        "colab": {
          "base_uri": "https://localhost:8080/"
        },
        "id": "WP3sTS9h5q4V",
        "outputId": "6a31e8dc-87ed-4a6e-98f7-a0d7f9b2d4d5"
      },
      "execution_count": 103,
      "outputs": [
        {
          "output_type": "stream",
          "name": "stdout",
          "text": [
            "a\n",
            "b\n",
            "c\n",
            "d\n"
          ]
        }
      ]
    },
    {
      "cell_type": "code",
      "source": [
        "x = 0\n",
        "\n",
        "while x < 10:\n",
        "  if  x == 4 or x == 8:\n",
        "    x += 1\n",
        "    continue\n",
        "  print(x)\n",
        "  x += 1"
      ],
      "metadata": {
        "colab": {
          "base_uri": "https://localhost:8080/"
        },
        "id": "wRRLqcmO6D8y",
        "outputId": "8786f5bb-bec3-4722-aed9-e26e08aec5e2"
      },
      "execution_count": 104,
      "outputs": [
        {
          "output_type": "stream",
          "name": "stdout",
          "text": [
            "0\n",
            "1\n",
            "2\n",
            "3\n",
            "5\n",
            "6\n",
            "7\n",
            "9\n"
          ]
        }
      ]
    },
    {
      "cell_type": "markdown",
      "source": [
        "#Functions"
      ],
      "metadata": {
        "id": "yrLeziD764OF"
      }
    },
    {
      "cell_type": "code",
      "source": [
        "def areaCircle(radius):\n",
        "  print('radius --> ', radius)\n",
        "  return 3.14 * (radius ** 2)"
      ],
      "metadata": {
        "id": "ZOW1NdXV66As"
      },
      "execution_count": 105,
      "outputs": []
    },
    {
      "cell_type": "code",
      "source": [
        "print(areaCircle(4))"
      ],
      "metadata": {
        "colab": {
          "base_uri": "https://localhost:8080/"
        },
        "id": "yRHtK_K28kff",
        "outputId": "7309b0de-04b3-4a51-b16f-9379501cae35"
      },
      "execution_count": 106,
      "outputs": [
        {
          "output_type": "stream",
          "name": "stdout",
          "text": [
            "radius -->  4\n",
            "50.24\n"
          ]
        }
      ]
    },
    {
      "cell_type": "code",
      "source": [
        "def volumeCylinder(radius, height = 3):\n",
        "  print('radius = ', radius, ' height = ', height)\n",
        "  return 3.14 * (radius ** 2) * height"
      ],
      "metadata": {
        "id": "c_SmVipj870h"
      },
      "execution_count": 107,
      "outputs": []
    },
    {
      "cell_type": "code",
      "source": [
        "volumeCylinder(radius = 5, height = 8)"
      ],
      "metadata": {
        "colab": {
          "base_uri": "https://localhost:8080/"
        },
        "id": "-TWs7QTh9SCJ",
        "outputId": "c1945c91-d52f-4b05-af99-13b90ca4518b"
      },
      "execution_count": 108,
      "outputs": [
        {
          "output_type": "stream",
          "name": "stdout",
          "text": [
            "radius =  5  height =  8\n"
          ]
        },
        {
          "output_type": "execute_result",
          "data": {
            "text/plain": [
              "628.0"
            ]
          },
          "metadata": {},
          "execution_count": 108
        }
      ]
    },
    {
      "cell_type": "code",
      "source": [
        "volumeCylinder(4, 6)"
      ],
      "metadata": {
        "colab": {
          "base_uri": "https://localhost:8080/"
        },
        "id": "10iLBgRv9e7V",
        "outputId": "ef7b00ea-7580-4893-80c1-ac580b6f9041"
      },
      "execution_count": 109,
      "outputs": [
        {
          "output_type": "stream",
          "name": "stdout",
          "text": [
            "radius =  4  height =  6\n"
          ]
        },
        {
          "output_type": "execute_result",
          "data": {
            "text/plain": [
              "301.44"
            ]
          },
          "metadata": {},
          "execution_count": 109
        }
      ]
    },
    {
      "cell_type": "code",
      "source": [
        "volumeCylinder(7)"
      ],
      "metadata": {
        "colab": {
          "base_uri": "https://localhost:8080/"
        },
        "id": "bHeUtwO19o1Z",
        "outputId": "de4dcf7c-c453-4924-a88f-fd855701dba8"
      },
      "execution_count": 110,
      "outputs": [
        {
          "output_type": "stream",
          "name": "stdout",
          "text": [
            "radius =  7  height =  3\n"
          ]
        },
        {
          "output_type": "execute_result",
          "data": {
            "text/plain": [
              "461.58000000000004"
            ]
          },
          "metadata": {},
          "execution_count": 110
        }
      ]
    },
    {
      "cell_type": "markdown",
      "source": [
        "#Classes"
      ],
      "metadata": {
        "id": "tLa-kd25_SU_"
      }
    },
    {
      "cell_type": "code",
      "source": [
        "class Book(object):\n",
        "  \"\"\"Cass object for boooks\"\"\"\n",
        "\n",
        "  def __init__(self, title, author):\n",
        "    \"\"\"initializes a new book\"\"\"\n",
        "    self.title = title\n",
        "    self.author = author\n",
        "\n",
        "  def __str__(self):\n",
        "    return 'My book titled ' + self.title + ' by ' + self.author\n",
        "\n",
        "  def change_book_title(self, new_name):\n",
        "    self.title = new_name"
      ],
      "metadata": {
        "id": "O3A_rFTS_VHb"
      },
      "execution_count": 111,
      "outputs": []
    },
    {
      "cell_type": "code",
      "source": [
        "my_book = Book(title = 'Midnight Summer', author = 'Shakespere')"
      ],
      "metadata": {
        "id": "FTdBObFFCAob"
      },
      "execution_count": 112,
      "outputs": []
    },
    {
      "cell_type": "code",
      "source": [
        "print(my_book)"
      ],
      "metadata": {
        "colab": {
          "base_uri": "https://localhost:8080/"
        },
        "id": "XDnPnjfbCPiX",
        "outputId": "c55f04dd-96ea-4139-bd8b-d73ca34e542c"
      },
      "execution_count": 113,
      "outputs": [
        {
          "output_type": "stream",
          "name": "stdout",
          "text": [
            "My book titled Midnight Summer by Shakespere\n"
          ]
        }
      ]
    },
    {
      "cell_type": "code",
      "source": [
        "my_book.title"
      ],
      "metadata": {
        "colab": {
          "base_uri": "https://localhost:8080/",
          "height": 35
        },
        "id": "1OB6YwvGCY6l",
        "outputId": "0476626d-b18a-47f4-cc5d-ad299ed5e99d"
      },
      "execution_count": 114,
      "outputs": [
        {
          "output_type": "execute_result",
          "data": {
            "application/vnd.google.colaboratory.intrinsic+json": {
              "type": "string"
            },
            "text/plain": [
              "'Midnight Summer'"
            ]
          },
          "metadata": {},
          "execution_count": 114
        }
      ]
    },
    {
      "cell_type": "code",
      "source": [
        "my_book.change_book_title(new_name = 'Kite Flying high')"
      ],
      "metadata": {
        "id": "irgst_-DDPL4"
      },
      "execution_count": 115,
      "outputs": []
    },
    {
      "cell_type": "code",
      "source": [
        "my_book"
      ],
      "metadata": {
        "colab": {
          "base_uri": "https://localhost:8080/"
        },
        "id": "CtauSRIRDXLT",
        "outputId": "36959a6b-bba0-4c10-8c45-31e6b67c2be3"
      },
      "execution_count": 116,
      "outputs": [
        {
          "output_type": "execute_result",
          "data": {
            "text/plain": [
              "<__main__.Book at 0x7f2b45466bd0>"
            ]
          },
          "metadata": {},
          "execution_count": 116
        }
      ]
    },
    {
      "cell_type": "code",
      "source": [
        "print(my_book)"
      ],
      "metadata": {
        "colab": {
          "base_uri": "https://localhost:8080/"
        },
        "id": "_T5lSm_GDaj2",
        "outputId": "bbda75bb-2a74-4cf1-fe6b-23ae8aeeda31"
      },
      "execution_count": 117,
      "outputs": [
        {
          "output_type": "stream",
          "name": "stdout",
          "text": [
            "My book titled Kite Flying high by Shakespere\n"
          ]
        }
      ]
    }
  ]
}